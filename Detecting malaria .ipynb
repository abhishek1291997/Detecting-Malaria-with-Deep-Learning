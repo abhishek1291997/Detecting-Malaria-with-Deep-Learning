{
 "cells": [
  {
   "cell_type": "code",
   "execution_count": 45,
   "metadata": {},
   "outputs": [],
   "source": [
    "import numpy as np \n",
    "import pandas as pd\n",
    "import glob\n",
    "import cv2\n",
    "import os\n",
    "from pathlib import Path\n",
    "from sklearn.utils import shuffle\n",
    "from sklearn.model_selection import train_test_split\n",
    "from keras.utils import to_categorical\n",
    "from keras.preprocessing.image import ImageDataGenerator\n",
    "from keras.layers import Conv2D, MaxPooling2D, Flatten, Dense, BatchNormalization, Dropout\n",
    "from keras.models import Sequential"
   ]
  },
  {
   "cell_type": "code",
   "execution_count": 46,
   "metadata": {},
   "outputs": [],
   "source": [
    "import warnings\n",
    "warnings.filterwarnings(\"ignore\")"
   ]
  },
  {
   "cell_type": "code",
   "execution_count": 47,
   "metadata": {},
   "outputs": [
    {
     "name": "stdout",
     "output_type": "stream",
     "text": [
      "['cell-images-for-detecting-malaria.zip', 'cell_images']\n"
     ]
    }
   ],
   "source": [
    "print(os.listdir(r'C:\\Users\\Abhishek\\JUPYTER\\Detecting malaria'))"
   ]
  },
  {
   "cell_type": "code",
   "execution_count": 48,
   "metadata": {},
   "outputs": [],
   "source": [
    "directory = Path('C:/Users/Abhishek/JUPYTER/Detecting malaria/cell_images')\n",
    "\n",
    "Parasitized_dir = directory / 'Parasitized'\n",
    "Uninfected_dir  = directory / 'Uninfected'"
   ]
  },
  {
   "cell_type": "code",
   "execution_count": 49,
   "metadata": {},
   "outputs": [],
   "source": [
    "X = []\n",
    "Y = []"
   ]
  },
  {
   "cell_type": "code",
   "execution_count": 50,
   "metadata": {},
   "outputs": [],
   "source": [
    "# DATA CLEANSING\n",
    "Parasitized  = Parasitized_dir.glob('*.png')\n",
    "Uninfected   = Uninfected_dir.glob('*.png')"
   ]
  },
  {
   "cell_type": "code",
   "execution_count": 51,
   "metadata": {},
   "outputs": [],
   "source": [
    "height = 64\n",
    "width  = 64\n",
    "for u in Uninfected:\n",
    "    image = cv2.imread(str(u))\n",
    "    resizeimage = cv2.resize(image, (height,width))\n",
    "    img = resizeimage.astype(np.float32)/255.\n",
    "    label = to_categorical(0, num_classes=2)\n",
    "    X.append((img))\n",
    "    Y.append((label))\n",
    "    \n",
    "for p in Parasitized:\n",
    "    image = cv2.imread(str(p))\n",
    "    resizeimage = cv2.resize(image, (height,width))\n",
    "    img = resizeimage.astype(np.float32)/255.\n",
    "    label = to_categorical(1, num_classes=2)\n",
    "    X.append((img))\n",
    "    Y.append((label))\n",
    "    \n",
    "X = np.array(X)\n",
    "Y = np.array(Y)"
   ]
  },
  {
   "cell_type": "code",
   "execution_count": 52,
   "metadata": {},
   "outputs": [
    {
     "data": {
      "text/plain": [
       "((27558, 64, 64, 3), (27558, 2))"
      ]
     },
     "execution_count": 52,
     "metadata": {},
     "output_type": "execute_result"
    }
   ],
   "source": [
    "X.shape , Y.shape"
   ]
  },
  {
   "cell_type": "code",
   "execution_count": 53,
   "metadata": {},
   "outputs": [],
   "source": [
    "X , Y = shuffle(X , Y , random_state = 42)"
   ]
  },
  {
   "cell_type": "code",
   "execution_count": 54,
   "metadata": {},
   "outputs": [],
   "source": [
    "X_train , X_test , Y_train , Y_test = train_test_split(X , Y , test_size = 0.2 , random_state = 0)"
   ]
  },
  {
   "cell_type": "code",
   "execution_count": 55,
   "metadata": {},
   "outputs": [
    {
     "name": "stdout",
     "output_type": "stream",
     "text": [
      "_________________________________________________________________\n",
      "Layer (type)                 Output Shape              Param #   \n",
      "=================================================================\n",
      "conv2d_9 (Conv2D)            (None, 64, 64, 16)        448       \n",
      "_________________________________________________________________\n",
      "conv2d_10 (Conv2D)           (None, 64, 64, 16)        2320      \n",
      "_________________________________________________________________\n",
      "max_pooling2d_5 (MaxPooling2 (None, 32, 32, 16)        0         \n",
      "_________________________________________________________________\n",
      "conv2d_11 (Conv2D)           (None, 32, 32, 32)        4640      \n",
      "_________________________________________________________________\n",
      "max_pooling2d_6 (MaxPooling2 (None, 16, 16, 32)        0         \n",
      "_________________________________________________________________\n",
      "batch_normalization_5 (Batch (None, 16, 16, 32)        128       \n",
      "_________________________________________________________________\n",
      "conv2d_12 (Conv2D)           (None, 16, 16, 32)        9248      \n",
      "_________________________________________________________________\n",
      "batch_normalization_6 (Batch (None, 16, 16, 32)        128       \n",
      "_________________________________________________________________\n",
      "flatten_3 (Flatten)          (None, 8192)              0         \n",
      "_________________________________________________________________\n",
      "dense_7 (Dense)              (None, 512)               4194816   \n",
      "_________________________________________________________________\n",
      "dropout_5 (Dropout)          (None, 512)               0         \n",
      "_________________________________________________________________\n",
      "dense_8 (Dense)              (None, 256)               131328    \n",
      "_________________________________________________________________\n",
      "dropout_6 (Dropout)          (None, 256)               0         \n",
      "_________________________________________________________________\n",
      "dense_9 (Dense)              (None, 2)                 514       \n",
      "=================================================================\n",
      "Total params: 4,343,570\n",
      "Trainable params: 4,343,442\n",
      "Non-trainable params: 128\n",
      "_________________________________________________________________\n"
     ]
    }
   ],
   "source": [
    "model = Sequential()\n",
    "\n",
    "model.add(Conv2D(16,(3,3),   padding='same' ,activation=\"relu\" ,input_shape=(64,64,3)))\n",
    "model.add(Conv2D(16,(3,3),  padding='same' ,activation=\"relu\"))\n",
    "model.add(MaxPooling2D((2,2)))\n",
    "\n",
    "model.add(Conv2D(32,(3,3),  padding='same' ,activation=\"relu\"))\n",
    "model.add(MaxPooling2D((2,2)))\n",
    "model.add(BatchNormalization())\n",
    "          \n",
    "model.add(Conv2D(32,(3,3), padding='same' ,activation=\"relu\"))\n",
    "model.add(BatchNormalization())\n",
    "          \n",
    "model.add(Flatten())\n",
    "model.add(Dense(512,activation=\"relu\"))\n",
    "model.add(Dropout(0.2))\n",
    "model.add(Dense(256,activation=\"relu\"))\n",
    "model.add(Dropout(0.2))\n",
    "model.add(Dense(2,activation=\"softmax\"))\n",
    "model.summary()"
   ]
  },
  {
   "cell_type": "code",
   "execution_count": 56,
   "metadata": {},
   "outputs": [],
   "source": [
    "model.compile(optimizer='adam',loss='categorical_crossentropy',metrics=['accuracy'])"
   ]
  },
  {
   "cell_type": "code",
   "execution_count": 57,
   "metadata": {},
   "outputs": [],
   "source": [
    "datagen = ImageDataGenerator(\n",
    "    zoom_range = 0.3 ,\n",
    "    rotation_range=20,\n",
    "    width_shift_range=0.2,\n",
    "    horizontal_flip=True,\n",
    "    fill_mode = 'nearest')\n",
    "\n",
    "\n",
    "datagen.fit(X)"
   ]
  },
  {
   "cell_type": "code",
   "execution_count": 58,
   "metadata": {},
   "outputs": [
    {
     "name": "stdout",
     "output_type": "stream",
     "text": [
      "WARNING:tensorflow:From C:\\Users\\Abhishek\\Anaconda3\\envs\\PythonCPU\\lib\\site-packages\\tensorflow\\python\\ops\\math_grad.py:1250: add_dispatch_support.<locals>.wrapper (from tensorflow.python.ops.array_ops) is deprecated and will be removed in a future version.\n",
      "Instructions for updating:\n",
      "Use tf.where in 2.0, which has the same broadcast rule as np.where\n",
      "Epoch 1/20\n",
      "431/430 [==============================] - 255s 593ms/step - loss: 0.5210 - acc: 0.7563 - val_loss: 0.5123 - val_acc: 0.8128\n",
      "Epoch 2/20\n",
      "431/430 [==============================] - 163s 379ms/step - loss: 0.2426 - acc: 0.9179 - val_loss: 0.5228 - val_acc: 0.6756\n",
      "Epoch 3/20\n",
      "431/430 [==============================] - 174s 403ms/step - loss: 0.2135 - acc: 0.9292 - val_loss: 0.1684 - val_acc: 0.9476\n",
      "Epoch 4/20\n",
      "431/430 [==============================] - 166s 384ms/step - loss: 0.1958 - acc: 0.9349 - val_loss: 0.1474 - val_acc: 0.9554\n",
      "Epoch 5/20\n",
      "431/430 [==============================] - 168s 391ms/step - loss: 0.1885 - acc: 0.9366 - val_loss: 0.1515 - val_acc: 0.9492\n",
      "Epoch 6/20\n",
      "431/430 [==============================] - 171s 396ms/step - loss: 0.1807 - acc: 0.9390 - val_loss: 0.6025 - val_acc: 0.8759\n",
      "Epoch 7/20\n",
      "431/430 [==============================] - 173s 402ms/step - loss: 0.1846 - acc: 0.9389 - val_loss: 0.2144 - val_acc: 0.9434\n",
      "Epoch 8/20\n",
      "431/430 [==============================] - 171s 397ms/step - loss: 0.1764 - acc: 0.9414 - val_loss: 0.2648 - val_acc: 0.9354\n",
      "Epoch 9/20\n",
      "431/430 [==============================] - 169s 392ms/step - loss: 0.1741 - acc: 0.9421 - val_loss: 0.1762 - val_acc: 0.9599\n",
      "Epoch 10/20\n",
      "431/430 [==============================] - 161s 373ms/step - loss: 0.1711 - acc: 0.9420 - val_loss: 0.1268 - val_acc: 0.9608\n",
      "Epoch 11/20\n",
      "431/430 [==============================] - 159s 370ms/step - loss: 0.1671 - acc: 0.9436 - val_loss: 0.1196 - val_acc: 0.9604\n",
      "Epoch 12/20\n",
      "431/430 [==============================] - 160s 371ms/step - loss: 0.1610 - acc: 0.9457 - val_loss: 0.1280 - val_acc: 0.9617\n",
      "Epoch 13/20\n",
      "431/430 [==============================] - 159s 368ms/step - loss: 0.1643 - acc: 0.9460 - val_loss: 0.1187 - val_acc: 0.9639\n",
      "Epoch 14/20\n",
      "431/430 [==============================] - 166s 386ms/step - loss: 0.1614 - acc: 0.9459 - val_loss: 0.1231 - val_acc: 0.9639\n",
      "Epoch 15/20\n",
      "431/430 [==============================] - 160s 371ms/step - loss: 0.1598 - acc: 0.9448 - val_loss: 0.1436 - val_acc: 0.9565\n",
      "Epoch 16/20\n",
      "431/430 [==============================] - 160s 370ms/step - loss: 0.1573 - acc: 0.9475 - val_loss: 4.3996 - val_acc: 0.6174\n",
      "Epoch 17/20\n",
      "431/430 [==============================] - 160s 371ms/step - loss: 0.1571 - acc: 0.9473 - val_loss: 0.1188 - val_acc: 0.9621\n",
      "Epoch 18/20\n",
      "431/430 [==============================] - 160s 372ms/step - loss: 0.1584 - acc: 0.9475 - val_loss: 0.1076 - val_acc: 0.9644\n",
      "Epoch 19/20\n",
      "431/430 [==============================] - 160s 370ms/step - loss: 0.1584 - acc: 0.9470 - val_loss: 0.1607 - val_acc: 0.9530\n",
      "Epoch 20/20\n",
      "431/430 [==============================] - 161s 374ms/step - loss: 0.1554 - acc: 0.9468 - val_loss: 0.1219 - val_acc: 0.9623\n"
     ]
    },
    {
     "data": {
      "text/plain": [
       "<keras.callbacks.History at 0x21c7f774048>"
      ]
     },
     "execution_count": 58,
     "metadata": {},
     "output_type": "execute_result"
    }
   ],
   "source": [
    "model.fit_generator(datagen.flow(X_train , Y_train, batch_size=64),\n",
    "                    steps_per_epoch=len(X) / 64, \n",
    "                    epochs=20,\n",
    "                    validation_data=(X_test , Y_test))"
   ]
  },
  {
   "cell_type": "code",
   "execution_count": 59,
   "metadata": {},
   "outputs": [
    {
     "name": "stdout",
     "output_type": "stream",
     "text": [
      "5512/5512 [==============================] - 12s 2ms/step\n",
      "0.12189931378947201\n",
      "0.9622641509433962\n"
     ]
    }
   ],
   "source": [
    "loss, test_accuracy = model.evaluate(X_test, Y_test)\n",
    "print(loss)\n",
    "print(test_accuracy)"
   ]
  },
  {
   "cell_type": "code",
   "execution_count": null,
   "metadata": {},
   "outputs": [],
   "source": []
  }
 ],
 "metadata": {
  "kernelspec": {
   "display_name": "Python 3",
   "language": "python",
   "name": "python3"
  },
  "language_info": {
   "codemirror_mode": {
    "name": "ipython",
    "version": 3
   },
   "file_extension": ".py",
   "mimetype": "text/x-python",
   "name": "python",
   "nbconvert_exporter": "python",
   "pygments_lexer": "ipython3",
   "version": "3.7.4"
  }
 },
 "nbformat": 4,
 "nbformat_minor": 2
}
